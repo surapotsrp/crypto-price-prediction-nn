{
 "cells": [
  {
   "cell_type": "markdown",
   "id": "27ba6b18",
   "metadata": {},
   "source": [
    "### Step:1 Import data from binance\n"
   ]
  },
  {
   "cell_type": "code",
   "execution_count": 51,
   "id": "1d6772e7",
   "metadata": {},
   "outputs": [],
   "source": [
    "# ใช้สำหรับการ import data from binance\n",
    "import ccxt\n",
    "import pandas as pd"
   ]
  },
  {
   "cell_type": "code",
   "execution_count": 52,
   "id": "74182fd1",
   "metadata": {},
   "outputs": [],
   "source": [
    "# สร้างเชื่อมต่อกับ Binance\n",
    "exchange = ccxt.binance()\n",
    "symbol = 'BTC/USD'  # คู่เหรียญ\n",
    "timeframe = '1d'  # กรอบเวลา: 1 วัน"
   ]
  },
  {
   "cell_type": "markdown",
   "id": "7e4022f8",
   "metadata": {},
   "source": [
    "Import data from 200 days before to train the algorithms."
   ]
  },
  {
   "cell_type": "code",
   "execution_count": 53,
   "id": "dad28612",
   "metadata": {},
   "outputs": [
    {
     "name": "stdout",
     "output_type": "stream",
     "text": [
      "   timestamp     open     high      low    close        volume\n",
      "0 2024-07-23  67536.0  67752.8  65432.1  65926.8  29184.184218\n",
      "1 2024-07-24  65926.8  67093.5  65052.0  65347.8  21394.867329\n",
      "2 2024-07-25  65344.9  66146.3  63413.3  65764.3  31885.959601\n",
      "3 2024-07-26  65764.4  68190.8  65687.3  67894.3  27183.398187\n",
      "4 2024-07-27  67894.4  69412.4  66618.1  67864.2  39807.939686\n"
     ]
    }
   ],
   "source": [
    "# ดึงข้อมูลย้อนหลัง \n",
    "data = exchange.fetch_ohlcv(symbol, timeframe, limit=300)  # ล่าสุด 300 แท่ง\n",
    "df = pd.DataFrame(data, columns=['timestamp', 'open', 'high', 'low', 'close', 'volume']) #ปรับเพื่อแก้ว่าต้องการข้อมูลอะไรเพิ่ม\n",
    "df['timestamp'] = pd.to_datetime(df['timestamp'], unit='ms')\n",
    "print(df.head())"
   ]
  },
  {
   "cell_type": "code",
   "execution_count": 54,
   "id": "02f93cc9",
   "metadata": {
    "scrolled": true
   },
   "outputs": [
    {
     "name": "stdout",
     "output_type": "stream",
     "text": [
      "     timestamp      open      high      low     close        volume\n",
      "0   2024-07-23   67536.0   67752.8  65432.1   65926.8  29184.184218\n",
      "1   2024-07-24   65926.8   67093.5  65052.0   65347.8  21394.867329\n",
      "2   2024-07-25   65344.9   66146.3  63413.3   65764.3  31885.959601\n",
      "3   2024-07-26   65764.4   68190.8  65687.3   67894.3  27183.398187\n",
      "4   2024-07-27   67894.4   69412.4  66618.1   67864.2  39807.939686\n",
      "..         ...       ...       ...      ...       ...           ...\n",
      "195 2025-02-03   97614.2  102511.0  91000.0  101382.0  74190.353191\n",
      "196 2025-02-04  101382.0  101776.5  96058.3   97752.0  40724.480363\n",
      "197 2025-02-05   97752.1   99177.5  96052.6   96569.6  22111.746163\n",
      "198 2025-02-06   96560.2   99137.9  95660.6   96531.6  18820.033799\n",
      "199 2025-02-07   96530.3   97846.9  96391.4   97397.4   5708.909622\n",
      "\n",
      "[200 rows x 6 columns]\n"
     ]
    }
   ],
   "source": [
    "print(df)"
   ]
  },
  {
   "cell_type": "markdown",
   "id": "1d879a9e",
   "metadata": {},
   "source": [
    "เพิ่ม Technical terms บางอย่าง เช่น\n",
    "\n",
    "`macd` เป็นอินดิเคเตอร์ที่ใช้วัดความสัมพันธ์ระหว่างค่าเฉลี่ยเคลื่อนที่ (Moving Averages) สองตัว เป็นของ EMA 12 - EMA 26\n",
    "\n",
    "`macd_signal` คือค่าเฉลี่ยเคลื่อนที่ของเส้น MACD\n",
    "\n",
    "`macd_diff` value between MACD - MACDsignal\n",
    "\n",
    "`RSI`วัด value แรงซื้อหรือแรงขายในตลาด"
   ]
  },
  {
   "cell_type": "code",
   "execution_count": 55,
   "id": "2de50408",
   "metadata": {},
   "outputs": [
    {
     "name": "stdout",
     "output_type": "stream",
     "text": [
      "        close        rsi        macd  macd_signal   macd_diff\n",
      "195  101382.0  51.003399  662.847001  1245.742221 -582.895220\n",
      "196   97752.0  44.427636  304.983218  1057.590421 -752.607202\n",
      "197   96569.6  42.505286  -73.192488   831.433839 -904.626327\n",
      "198   96531.6  42.441727 -371.681233   590.810824 -962.492058\n",
      "199   97397.4  44.478819 -532.237586   366.201142 -898.438729\n"
     ]
    }
   ],
   "source": [
    "from ta.momentum import RSIIndicator\n",
    "from ta.trend import MACD\n",
    "\n",
    "# คำนวณ RSI\n",
    "rsi = RSIIndicator(close=df['close'], window=14)\n",
    "df['rsi'] = rsi.rsi()\n",
    "\n",
    "# คำนวณ MACD\n",
    "macd = MACD(close=df['close'])\n",
    "df['macd'] = macd.macd()  # ค่า MACD Line\n",
    "df['macd_signal'] = macd.macd_signal()  # ค่า Signal Line\n",
    "df['macd_diff'] = macd.macd_diff()  # ค่า MACD different\n",
    "\n",
    "print(df[['close', 'rsi', 'macd', 'macd_signal', 'macd_diff']].tail())"
   ]
  },
  {
   "cell_type": "code",
   "execution_count": 56,
   "id": "13b24653",
   "metadata": {},
   "outputs": [
    {
     "name": "stdout",
     "output_type": "stream",
     "text": [
      "     timestamp      open      high      low     close        volume  \\\n",
      "33  2024-08-25   64158.3   65078.9  63782.0   64225.0  11005.461325   \n",
      "34  2024-08-26   64225.1   64488.0  62773.4   62805.6  18705.509588   \n",
      "35  2024-08-27   62805.5   63191.5  57910.0   59384.0  36681.830167   \n",
      "36  2024-08-28   59384.0   60216.5  57800.0   59015.8  38464.206147   \n",
      "37  2024-08-29   59015.8   61170.5  58500.8   59330.0  29528.106172   \n",
      "..         ...       ...       ...      ...       ...           ...   \n",
      "195 2025-02-03   97614.2  102511.0  91000.0  101382.0  74190.353191   \n",
      "196 2025-02-04  101382.0  101776.5  96058.3   97752.0  40724.480363   \n",
      "197 2025-02-05   97752.1   99177.5  96052.6   96569.6  22111.746163   \n",
      "198 2025-02-06   96560.2   99137.9  95660.6   96531.6  18820.033799   \n",
      "199 2025-02-07   96530.3   97846.9  96391.4   97397.4   5708.909622   \n",
      "\n",
      "           rsi        macd  macd_signal   macd_diff  \n",
      "33   58.816709   99.829828  -740.726861  840.556689  \n",
      "34   54.044673  200.386414  -552.504206  752.890619  \n",
      "35   44.641919    3.938309  -441.215703  445.154012  \n",
      "36   43.759622 -179.390984  -388.850759  209.459775  \n",
      "37   44.762874 -295.916317  -370.263871   74.347554  \n",
      "..         ...         ...          ...         ...  \n",
      "195  51.003399  662.847001  1245.742221 -582.895220  \n",
      "196  44.427636  304.983218  1057.590421 -752.607202  \n",
      "197  42.505286  -73.192488   831.433839 -904.626327  \n",
      "198  42.441727 -371.681233   590.810824 -962.492058  \n",
      "199  44.478819 -532.237586   366.201142 -898.438729  \n",
      "\n",
      "[167 rows x 10 columns]\n"
     ]
    }
   ],
   "source": [
    "# Drop missing value from the dataset\n",
    "df.dropna(inplace=True)\n",
    "print(df)"
   ]
  },
  {
   "cell_type": "code",
   "execution_count": 57,
   "id": "8f86b9c9",
   "metadata": {},
   "outputs": [
    {
     "name": "stdout",
     "output_type": "stream",
     "text": [
      "        close  target\n",
      "195  101382.0       0\n",
      "196   97752.0       0\n",
      "197   96569.6       0\n",
      "198   96531.6       1\n",
      "199   97397.4       0\n"
     ]
    }
   ],
   "source": [
    "#สร้าง Target Variable ถ้าราคาปิดของอีกวันสูงขึ้นจะเป็นการ บ่งบอกว่า Good Target\n",
    "df['target'] = (df['close'].shift(-1) > df['close']).astype(int)\n",
    "print(df[['close', 'target']].tail())"
   ]
  },
  {
   "cell_type": "code",
   "execution_count": 58,
   "id": "d0372af1",
   "metadata": {},
   "outputs": [],
   "source": [
    "# สร้าง feature เพิ่มเติม\n",
    "# การเปลี่ยนแปลงของราคา\n",
    "df['price_change'] = df['close'] - df['open']"
   ]
  },
  {
   "cell_type": "markdown",
   "id": "ec7c4e59",
   "metadata": {},
   "source": [
    "### mention หากเกิดเวลาเปลี่ยนแปลง ต้องมาแก้ไข Function นี้"
   ]
  },
  {
   "cell_type": "code",
   "execution_count": 59,
   "id": "975e0ad3",
   "metadata": {},
   "outputs": [
    {
     "name": "stdout",
     "output_type": "stream",
     "text": [
      "Train Data:\n",
      "     timestamp     open     high      low    close        volume        rsi  \\\n",
      "70  2024-10-01  63285.8  64092.0  60080.2  60767.5  41315.097587  45.708757   \n",
      "71  2024-10-02  60766.1  62355.0  59934.0  60616.0  26278.612640  45.232467   \n",
      "72  2024-10-03  60610.2  61451.9  59815.1  60719.5  20929.881355  45.649136   \n",
      "73  2024-10-04  60719.5  62461.0  60430.1  62057.4  20897.699948  50.854157   \n",
      "74  2024-10-05  62057.4  62338.4  61655.2  62030.2   5697.061891  50.747752   \n",
      "..         ...      ...      ...      ...      ...           ...        ...   \n",
      "157 2024-12-27  95649.6  97415.7  93300.3  94140.1  33350.470651  43.809035   \n",
      "158 2024-12-28  94140.0  95549.9  93964.4  95125.8   9792.543625  45.959150   \n",
      "159 2024-12-29  95126.7  95172.7  92803.6  93519.2  12730.666810  43.066583   \n",
      "160 2024-12-30  93519.2  94940.0  91271.5  92640.0  41588.112330  41.526304   \n",
      "161 2024-12-31  92640.1  96200.0  91894.9  93422.5  27220.568128  43.464344   \n",
      "\n",
      "            macd  macd_signal    macd_diff  target  price_change  \n",
      "70   1204.416282  1298.157857   -93.741574       0       -2518.3  \n",
      "71    903.929894  1219.312264  -315.382370       1        -150.1  \n",
      "72    666.461300  1108.742071  -442.280771       1         109.3  \n",
      "73    579.542473  1002.902152  -423.359679       0        1337.9  \n",
      "74    502.669403   902.855602  -400.186199       1         -27.2  \n",
      "..           ...          ...          ...     ...           ...  \n",
      "157   234.129300  1314.734400 -1080.605099       1       -1509.5  \n",
      "158    22.617324  1056.310984 -1033.693660       0         985.8  \n",
      "159  -271.516758   790.745436 -1062.262194       0       -1607.5  \n",
      "160  -569.005093   518.795330 -1087.800423       1        -879.2  \n",
      "161  -733.173958   268.401473 -1001.575430       1         782.4  \n",
      "\n",
      "[92 rows x 12 columns]\n",
      "\n",
      "Test Data:\n",
      "     timestamp      open      high       low     close        volume  \\\n",
      "162 2025-01-01   93422.4   95031.6   92735.1   94446.4  11707.661773   \n",
      "163 2025-01-02   94446.4   97785.0   94248.1   96893.4  26538.096972   \n",
      "164 2025-01-03   96896.3   98938.4   96021.4   98132.5  17341.112416   \n",
      "165 2025-01-04   98132.5   98750.0   97504.5   98184.4   8876.062249   \n",
      "166 2025-01-05   98184.4   98850.1   97162.1   98321.0  11013.063483   \n",
      "167 2025-01-06   98320.9  102475.3   97880.0  102237.8  28908.758043   \n",
      "168 2025-01-07  102237.7  102723.0   96069.0   96893.1  35560.504104   \n",
      "169 2025-01-08   96893.1   97217.0   92386.4   95020.2  36697.520476   \n",
      "170 2025-01-09   95014.9   95333.3   91106.6   92491.8  38447.214192   \n",
      "171 2025-01-10   92491.8   95843.3   92149.8   94674.3  39064.571693   \n",
      "172 2025-01-11   94674.3   94940.8   93769.7   94522.0   6553.771527   \n",
      "173 2025-01-12   94521.9   95360.8   93630.1   94458.9   8091.667953   \n",
      "174 2025-01-13   94458.8   95866.4   89050.0   94474.5  48193.293250   \n",
      "175 2025-01-14   94474.6   97336.4   94303.9   96484.7  26813.984585   \n",
      "176 2025-01-15   96484.8  100670.2   96421.9  100481.8  30623.412607   \n",
      "177 2025-01-16  100481.8  100842.0   97258.0   99940.4  24404.074177   \n",
      "178 2025-01-17   99940.4  105863.0   99902.5  104076.7  29776.860932   \n",
      "179 2025-01-18  104076.7  104913.5  102184.1  104448.8  21408.988316   \n",
      "180 2025-01-19  104448.9  106373.0   99513.2  101222.3  35527.220403   \n",
      "181 2025-01-20  101226.6  109852.0   99345.8  102151.9  89129.326707   \n",
      "182 2025-01-21  102152.0  107249.9   99985.1  106131.7  37065.242311   \n",
      "183 2025-01-22  106131.7  106369.9  103200.9  103620.0  19695.423843   \n",
      "184 2025-01-23  103619.9  106844.0  101124.2  103873.2  57571.068288   \n",
      "185 2025-01-24  103873.2  107131.8  102701.0  104808.2  23154.655164   \n",
      "186 2025-01-25  104808.2  105229.6  104039.7  104666.7   7361.070036   \n",
      "187 2025-01-26  104666.8  105444.0  102435.6  102542.6   9144.884946   \n",
      "188 2025-01-27  102542.5  103208.0   97600.0  102016.1  48260.705587   \n",
      "189 2025-01-28  102016.1  103762.2  100166.7  101251.2  21959.274221   \n",
      "190 2025-01-29  101251.2  104741.9  101242.3  103709.2  21721.733991   \n",
      "191 2025-01-30  103709.2  106434.7  103269.1  104685.9  16606.109459   \n",
      "192 2025-01-31  104685.9  105998.4  101457.5  102340.0  19923.157064   \n",
      "\n",
      "           rsi         macd  macd_signal   macd_diff  target  price_change  \n",
      "162  45.987002  -771.762397    60.368699 -832.131096       1        1024.0  \n",
      "163  51.550941  -597.998212   -71.304683 -526.693529       1        2447.0  \n",
      "164  54.127800  -356.197803  -128.283307 -227.914496       1        1236.2  \n",
      "165  54.237590  -158.553633  -134.337372  -24.216260       1          51.9  \n",
      "166  54.545945     8.999534  -105.669991  114.669525       1         136.6  \n",
      "167  62.374622   452.622105     5.988428  446.633677       0        3916.9  \n",
      "168  49.776247   368.673725    78.525488  290.148238       0       -5344.6  \n",
      "169  46.250894   149.295665    92.679523   56.616142       0       -1872.9  \n",
      "170  41.933177  -225.978835    28.947851 -254.926686       1       -2523.1  \n",
      "171  46.569920  -343.319496   -45.505618 -297.813878       0        2182.5  \n",
      "172  46.292126  -443.489877  -125.102470 -318.387407       0        -152.3  \n",
      "173  46.169245  -521.950548  -204.472085 -317.478462       1         -63.0  \n",
      "174  46.207262  -576.229984  -278.823665 -297.406319       1          15.7  \n",
      "175  51.008668  -451.832050  -313.425342 -138.406708       1        2010.1  \n",
      "176  58.869966   -30.363218  -256.812917  226.449700       0        3997.0  \n",
      "177  57.523552   257.004821  -154.049370  411.054191       1        -541.4  \n",
      "178  64.250698   809.183145    38.597133  770.586011       1        4136.3  \n",
      "179  64.790917  1262.263220   283.330351  978.932869       0         372.1  \n",
      "180  56.778836  1345.471105   495.758501  849.712604       1       -3226.6  \n",
      "181  58.375910  1469.485590   690.503919  778.981670       1         925.3  \n",
      "182  64.434927  1867.378583   925.878852  941.499731       0        3979.7  \n",
      "183  58.633991  1957.473908  1132.197863  825.276045       1       -2511.7  \n",
      "184  59.034375  2025.952309  1310.948752  715.003557       1         253.3  \n",
      "185  60.552762  2131.102597  1474.979521  656.123075       0         935.0  \n",
      "186  60.189173  2177.911482  1615.565913  562.345569       0        -141.5  \n",
      "187  54.863623  2020.321731  1696.517077  323.804654       0       -2124.2  \n",
      "188  53.597720  1831.830368  1723.579735  108.250633       0        -526.4  \n",
      "189  51.730258  1602.258727  1699.315534  -97.056807       1        -764.9  \n",
      "190  56.924238  1600.215318  1679.495490  -79.280172       1        2458.0  \n",
      "191  58.820383  1658.291675  1675.254727  -16.963052       0         976.7  \n",
      "192  52.807693  1497.757862  1639.755354 -141.997492       0       -2345.9  \n"
     ]
    }
   ],
   "source": [
    "# splitting data สำหรับ test แบบ timeframe series\n",
    "# แปลง timestamp เป็น datetime format (หากยังไม่ได้แปลง)\n",
    "df['timestamp'] = pd.to_datetime(df['timestamp'])\n",
    "\n",
    "# แยกข้อมูล Train (เดือน 10, 11, 12 ปี 2024)\n",
    "train_data = df[(df['timestamp'] >= '2024-10-01') & (df['timestamp'] <= '2024-12-31')]\n",
    "\n",
    "# แยกข้อมูล Test (เดือน 1 ปี 2025)\n",
    "test_data = df[(df['timestamp'] >= '2025-01-01') & (df['timestamp'] <= '2025-01-31')]\n",
    "\n",
    "# ตรวจสอบข้อมูล\n",
    "print(\"Train Data:\")\n",
    "print(train_data)\n",
    "print(\"\\nTest Data:\")\n",
    "print(test_data)"
   ]
  },
  {
   "cell_type": "code",
   "execution_count": 60,
   "id": "99e3f780",
   "metadata": {},
   "outputs": [],
   "source": [
    "# ทำ Standardization (Z-Score Scaling) data ก่อน fitting model เพระาหน่วยแตกต่างกัน\n",
    "# ปรับข้อมูลให้อยู่ในรูปค่าเฉลี่ย 0 และส่วนเบี่ยงเบนมาตรฐาน 1\n",
    "from sklearn.preprocessing import StandardScaler\n",
    "\n",
    "# เลือก Features ที่ต้องการ Normalize\n",
    "features_to_scale = ['rsi', 'macd_diff', 'price_change', 'volume', 'close']\n",
    "target_variable = 'target'\n",
    "\n",
    "# สร้าง Scaler\n",
    "scaler = StandardScaler()\n",
    "\n",
    "# Fit และ Transform ข้อมูล\n",
    "train_data.loc[:, features_to_scale] = scaler.fit_transform(train_data[features_to_scale])\n",
    "test_data.loc[:, features_to_scale] = scaler.transform(test_data[features_to_scale])"
   ]
  },
  {
   "cell_type": "code",
   "execution_count": 61,
   "id": "64b148d7",
   "metadata": {},
   "outputs": [
    {
     "name": "stdout",
     "output_type": "stream",
     "text": [
      "          rsi  macd_diff  price_change    volume     close  target\n",
      "70  -1.459648  -0.065423     -1.302241  0.375501 -1.500731       0\n",
      "71  -1.502724  -0.367827     -0.218507 -0.372464 -1.510761       1\n",
      "72  -1.465040  -0.540965     -0.099801 -0.638527 -1.503909       1\n",
      "73  -0.994295  -0.515149      0.462430 -0.640128 -1.415332       0\n",
      "74  -1.003918  -0.483532     -0.162266 -1.396258 -1.417133       1\n",
      "..        ...        ...           ...       ...       ...     ...\n",
      "157 -1.631460  -1.411885     -0.840595 -0.020686  0.708740       1\n",
      "158 -1.437002  -1.347880      0.301302 -1.192535  0.773999       0\n",
      "159 -1.698607  -1.386859     -0.885441 -1.046383  0.667632       0\n",
      "160 -1.837911  -1.421703     -0.552157  0.389081  0.609424       1\n",
      "161 -1.662634  -1.304058      0.208223 -0.325608  0.661230       1\n",
      "\n",
      "[92 rows x 6 columns]\n"
     ]
    }
   ],
   "source": [
    "train_data = train_data.loc[:, features_to_scale + [target_variable]]\n",
    "print(train_data)"
   ]
  },
  {
   "cell_type": "code",
   "execution_count": 62,
   "id": "7fc8b0f8",
   "metadata": {},
   "outputs": [],
   "source": [
    "# ระบุ Feature และ Target\n",
    "features_to_scale = ['rsi', 'macd_diff', 'price_change', 'volume', 'close']\n",
    "target_variable = 'target'  # เป้าหมายที่ต้องการพยากรณ์\n",
    "\n",
    "# แยก X (Features) และ y (Target)\n",
    "x_train = train_data[features_to_scale]\n",
    "y_train = train_data[target_variable]\n",
    "\n",
    "x_test = test_data[features_to_scale]\n",
    "y_test = test_data[target_variable]"
   ]
  },
  {
   "cell_type": "markdown",
   "id": "67717a09",
   "metadata": {},
   "source": [
    "ทำการ Fit model แบบ classificatiion tasks\n",
    "\n",
    "Logistic Regression\n",
    "\n",
    "Random Forest\n",
    "\n",
    "XGBoost\n",
    "\n",
    "NN - show highest performance ตอนนี้\n"
   ]
  },
  {
   "cell_type": "code",
   "execution_count": 63,
   "id": "6753362e",
   "metadata": {},
   "outputs": [
    {
     "name": "stdout",
     "output_type": "stream",
     "text": [
      "Coefficients of Features:\n",
      "        Feature  Coefficient\n",
      "0           rsi     0.261958\n",
      "3        volume     0.221719\n",
      "2  price_change    -0.022830\n",
      "4         close    -0.230090\n",
      "1     macd_diff    -0.269051\n",
      "Classification Report:\n",
      "              precision    recall  f1-score   support\n",
      "\n",
      "           0       0.47      1.00      0.64        14\n",
      "           1       1.00      0.06      0.11        17\n",
      "\n",
      "    accuracy                           0.48        31\n",
      "   macro avg       0.73      0.53      0.37        31\n",
      "weighted avg       0.76      0.48      0.35        31\n",
      "\n"
     ]
    }
   ],
   "source": [
    "from sklearn.linear_model import LogisticRegression\n",
    "from sklearn.metrics import classification_report\n",
    "import pandas as pd\n",
    "\n",
    "# สร้างและฝึก Logistic Regression\n",
    "model = LogisticRegression()\n",
    "model.fit(x_train, y_train)  # ฝึกโมเดล\n",
    "\n",
    "# ดึงค่า Coefficient\n",
    "coefficients = model.coef_[0]  # เนื่องจากเป็น Binary Classification จึงมีเพียง 1 ชุด\n",
    "features = x_train.columns  # ชื่อ Features หาก x_train เป็น DataFrame\n",
    "\n",
    "# แสดงผล Coefficients พร้อมชื่อ Feature\n",
    "coef_df = pd.DataFrame({'Feature': features, 'Coefficient': coefficients})\n",
    "coef_df = coef_df.sort_values(by='Coefficient', ascending=False)\n",
    "print(\"Coefficients of Features:\")\n",
    "print(coef_df)\n",
    "\n",
    "# ทำนายผล\n",
    "y_pred = model.predict(x_test)\n",
    "\n",
    "# ประเมินผล\n",
    "print(\"Classification Report:\")\n",
    "print(classification_report(y_test, y_pred))\n"
   ]
  },
  {
   "cell_type": "code",
   "execution_count": 64,
   "id": "ddbd5482",
   "metadata": {},
   "outputs": [
    {
     "name": "stdout",
     "output_type": "stream",
     "text": [
      "Optimization terminated successfully.\n",
      "         Current function value: 0.680561\n",
      "         Iterations 4\n",
      "                           Logit Regression Results                           \n",
      "==============================================================================\n",
      "Dep. Variable:                 target   No. Observations:                   92\n",
      "Model:                          Logit   Df Residuals:                       86\n",
      "Method:                           MLE   Df Model:                            5\n",
      "Date:                Fri, 07 Feb 2025   Pseudo R-squ.:                 0.01277\n",
      "Time:                        18:07:34   Log-Likelihood:                -62.612\n",
      "converged:                       True   LL-Null:                       -63.421\n",
      "Covariance Type:            nonrobust   LLR p-value:                    0.8989\n",
      "================================================================================\n",
      "                   coef    std err          z      P>|z|      [0.025      0.975]\n",
      "--------------------------------------------------------------------------------\n",
      "const            0.1783      0.211      0.844      0.399      -0.236       0.592\n",
      "rsi              0.4348      0.534      0.815      0.415      -0.611       1.481\n",
      "macd_diff       -0.4380      0.508     -0.862      0.389      -1.434       0.558\n",
      "price_change    -0.0609      0.252     -0.242      0.809      -0.555       0.433\n",
      "volume           0.2617      0.257      1.019      0.308      -0.242       0.765\n",
      "close           -0.3296      0.335     -0.983      0.325      -0.987       0.327\n",
      "================================================================================\n",
      "              Coefficient  Lower 95% CI  Upper 95% CI\n",
      "const            0.178289     -0.235773      0.592351\n",
      "rsi              0.434813     -0.611103      1.480729\n",
      "macd_diff       -0.438035     -1.434420      0.558349\n",
      "price_change    -0.060933     -0.554505      0.432639\n",
      "volume           0.261705     -0.241547      0.764957\n",
      "close           -0.329640     -0.986671      0.327391\n"
     ]
    }
   ],
   "source": [
    "import statsmodels.api as sm\n",
    "import pandas as pd\n",
    "\n",
    "# สร้างโมเดล Logistic Regression ด้วย Statsmodels\n",
    "x_train_sm = sm.add_constant(x_train)  # เพิ่มคอลัมน์ constant (intercept)\n",
    "model_sm = sm.Logit(y_train, x_train_sm).fit()  # ฝึก Logistic Regression\n",
    "\n",
    "# ดูสรุปผลของโมเดล\n",
    "print(model_sm.summary())\n",
    "\n",
    "# ดึงค่า Coefficients และ Confidence Intervals\n",
    "coefficients = model_sm.params  # Coefficients\n",
    "conf_int = model_sm.conf_int(alpha=0.05)  # Confidence Intervals 95%\n",
    "conf_int.columns = ['Lower 95% CI', 'Upper 95% CI']  # เปลี่ยนชื่อคอลัมน์\n",
    "\n",
    "# รวมข้อมูล Coefficients และ Confidence Intervals ใน DataFrame\n",
    "result_df = pd.concat([coefficients, conf_int], axis=1)\n",
    "result_df.columns = ['Coefficient', 'Lower 95% CI', 'Upper 95% CI']\n",
    "\n",
    "# แสดงผล\n",
    "print(result_df)"
   ]
  },
  {
   "cell_type": "markdown",
   "id": "9964e47c",
   "metadata": {},
   "source": [
    "Winning of model is FNN model focusing on tuning this model"
   ]
  },
  {
   "cell_type": "markdown",
   "id": "6736cad5",
   "metadata": {},
   "source": [
    "ปรับ Threshold ของโมเดล Default Threshold สำหรับโมเดล Classification คือ 0.5 (ผลลัพธ์ Sigmoid หรือ Probability > 0.5 จะถือว่าเป็น Class 1) focus การ  False Positives โดยการเพิ่ม Threshold"
   ]
  },
  {
   "cell_type": "code",
   "execution_count": 71,
   "id": "fdf79c34",
   "metadata": {
    "scrolled": true
   },
   "outputs": [
    {
     "name": "stdout",
     "output_type": "stream",
     "text": [
      "Epoch 1/20\n",
      "\u001b[1m3/3\u001b[0m \u001b[32m━━━━━━━━━━━━━━━━━━━━\u001b[0m\u001b[37m\u001b[0m \u001b[1m0s\u001b[0m 50ms/step - Precision: 0.5456 - loss: 0.7105 - val_Precision: 0.4737 - val_loss: 0.7007\n",
      "Epoch 2/20\n",
      "\u001b[1m3/3\u001b[0m \u001b[32m━━━━━━━━━━━━━━━━━━━━\u001b[0m\u001b[37m\u001b[0m \u001b[1m0s\u001b[0m 11ms/step - Precision: 0.5192 - loss: 0.7111 - val_Precision: 0.5000 - val_loss: 0.6991\n",
      "Epoch 3/20\n",
      "\u001b[1m3/3\u001b[0m \u001b[32m━━━━━━━━━━━━━━━━━━━━\u001b[0m\u001b[37m\u001b[0m \u001b[1m0s\u001b[0m 11ms/step - Precision: 0.4877 - loss: 0.7113 - val_Precision: 0.3846 - val_loss: 0.6988\n",
      "Epoch 4/20\n",
      "\u001b[1m3/3\u001b[0m \u001b[32m━━━━━━━━━━━━━━━━━━━━\u001b[0m\u001b[37m\u001b[0m \u001b[1m0s\u001b[0m 11ms/step - Precision: 0.5509 - loss: 0.7026 - val_Precision: 0.4286 - val_loss: 0.6975\n",
      "Epoch 5/20\n",
      "\u001b[1m3/3\u001b[0m \u001b[32m━━━━━━━━━━━━━━━━━━━━\u001b[0m\u001b[37m\u001b[0m \u001b[1m0s\u001b[0m 11ms/step - Precision: 0.5326 - loss: 0.6957 - val_Precision: 0.5000 - val_loss: 0.6964\n",
      "Epoch 6/20\n",
      "\u001b[1m3/3\u001b[0m \u001b[32m━━━━━━━━━━━━━━━━━━━━\u001b[0m\u001b[37m\u001b[0m \u001b[1m0s\u001b[0m 11ms/step - Precision: 0.5807 - loss: 0.6844 - val_Precision: 0.5000 - val_loss: 0.6954\n",
      "Epoch 7/20\n",
      "\u001b[1m3/3\u001b[0m \u001b[32m━━━━━━━━━━━━━━━━━━━━\u001b[0m\u001b[37m\u001b[0m \u001b[1m0s\u001b[0m 11ms/step - Precision: 0.6237 - loss: 0.6782 - val_Precision: 0.5333 - val_loss: 0.6939\n",
      "Epoch 8/20\n",
      "\u001b[1m3/3\u001b[0m \u001b[32m━━━━━━━━━━━━━━━━━━━━\u001b[0m\u001b[37m\u001b[0m \u001b[1m0s\u001b[0m 11ms/step - Precision: 0.5709 - loss: 0.6869 - val_Precision: 0.5833 - val_loss: 0.6932\n",
      "Epoch 9/20\n",
      "\u001b[1m3/3\u001b[0m \u001b[32m━━━━━━━━━━━━━━━━━━━━\u001b[0m\u001b[37m\u001b[0m \u001b[1m0s\u001b[0m 11ms/step - Precision: 0.6176 - loss: 0.6816 - val_Precision: 0.5833 - val_loss: 0.6927\n",
      "Epoch 10/20\n",
      "\u001b[1m3/3\u001b[0m \u001b[32m━━━━━━━━━━━━━━━━━━━━\u001b[0m\u001b[37m\u001b[0m \u001b[1m0s\u001b[0m 11ms/step - Precision: 0.6256 - loss: 0.6742 - val_Precision: 0.5000 - val_loss: 0.6928\n",
      "Epoch 11/20\n",
      "\u001b[1m3/3\u001b[0m \u001b[32m━━━━━━━━━━━━━━━━━━━━\u001b[0m\u001b[37m\u001b[0m \u001b[1m0s\u001b[0m 11ms/step - Precision: 0.6596 - loss: 0.6698 - val_Precision: 0.5556 - val_loss: 0.6927\n",
      "Epoch 12/20\n",
      "\u001b[1m3/3\u001b[0m \u001b[32m━━━━━━━━━━━━━━━━━━━━\u001b[0m\u001b[37m\u001b[0m \u001b[1m0s\u001b[0m 12ms/step - Precision: 0.6306 - loss: 0.6749 - val_Precision: 0.7143 - val_loss: 0.6916\n",
      "Epoch 13/20\n",
      "\u001b[1m3/3\u001b[0m \u001b[32m━━━━━━━━━━━━━━━━━━━━\u001b[0m\u001b[37m\u001b[0m \u001b[1m0s\u001b[0m 12ms/step - Precision: 0.6405 - loss: 0.6677 - val_Precision: 0.7143 - val_loss: 0.6916\n",
      "Epoch 14/20\n",
      "\u001b[1m3/3\u001b[0m \u001b[32m━━━━━━━━━━━━━━━━━━━━\u001b[0m\u001b[37m\u001b[0m \u001b[1m0s\u001b[0m 12ms/step - Precision: 0.6100 - loss: 0.6702 - val_Precision: 0.7143 - val_loss: 0.6923\n",
      "Epoch 15/20\n",
      "\u001b[1m3/3\u001b[0m \u001b[32m━━━━━━━━━━━━━━━━━━━━\u001b[0m\u001b[37m\u001b[0m \u001b[1m0s\u001b[0m 11ms/step - Precision: 0.6388 - loss: 0.6640 - val_Precision: 0.7143 - val_loss: 0.6919\n",
      "Epoch 16/20\n",
      "\u001b[1m3/3\u001b[0m \u001b[32m━━━━━━━━━━━━━━━━━━━━\u001b[0m\u001b[37m\u001b[0m \u001b[1m0s\u001b[0m 11ms/step - Precision: 0.6055 - loss: 0.6682 - val_Precision: 0.8333 - val_loss: 0.6911\n",
      "Epoch 17/20\n",
      "\u001b[1m3/3\u001b[0m \u001b[32m━━━━━━━━━━━━━━━━━━━━\u001b[0m\u001b[37m\u001b[0m \u001b[1m0s\u001b[0m 11ms/step - Precision: 0.6147 - loss: 0.6661 - val_Precision: 0.8333 - val_loss: 0.6911\n",
      "Epoch 18/20\n",
      "\u001b[1m3/3\u001b[0m \u001b[32m━━━━━━━━━━━━━━━━━━━━\u001b[0m\u001b[37m\u001b[0m \u001b[1m0s\u001b[0m 12ms/step - Precision: 0.6483 - loss: 0.6621 - val_Precision: 0.8333 - val_loss: 0.6903\n",
      "Epoch 19/20\n",
      "\u001b[1m3/3\u001b[0m \u001b[32m━━━━━━━━━━━━━━━━━━━━\u001b[0m\u001b[37m\u001b[0m \u001b[1m0s\u001b[0m 12ms/step - Precision: 0.6225 - loss: 0.6599 - val_Precision: 0.8333 - val_loss: 0.6899\n",
      "Epoch 20/20\n",
      "\u001b[1m3/3\u001b[0m \u001b[32m━━━━━━━━━━━━━━━━━━━━\u001b[0m\u001b[37m\u001b[0m \u001b[1m0s\u001b[0m 12ms/step - Precision: 0.6263 - loss: 0.6606 - val_Precision: 0.8333 - val_loss: 0.6888\n"
     ]
    },
    {
     "data": {
      "text/plain": [
       "<keras.src.callbacks.history.History at 0x16e229490>"
      ]
     },
     "execution_count": 71,
     "metadata": {},
     "output_type": "execute_result"
    }
   ],
   "source": [
    "from sklearn.utils.class_weight import compute_class_weight\n",
    "from tensorflow.keras.models import Sequential\n",
    "from tensorflow.keras.layers import Input, Dense\n",
    "\n",
    "model = Sequential([\n",
    "    Input(shape=(x_train.shape[1],)),  # กำหนด Input Shape\n",
    "    Dense(64, activation='relu'),\n",
    "    Dense(32, activation='relu'),\n",
    "    Dense(1, activation='sigmoid')  # สำหรับ Binary Classification\n",
    "])\n",
    "\n",
    "# คอมไพล์และฝึกโมเดล\n",
    "model.compile(optimizer='adam', loss='binary_crossentropy', metrics=['Precision'])\n",
    "class_weights = {0: 1, 1: 1}  # เพิ่มน้ำหนักให้ Class 1 มากกว่า\n",
    "model.fit(x_train, y_train, epochs=20, batch_size=32, validation_data=(x_test, y_test), class_weight=class_weights)"
   ]
  },
  {
   "cell_type": "code",
   "execution_count": 72,
   "id": "9c512f03",
   "metadata": {
    "scrolled": false
   },
   "outputs": [
    {
     "name": "stdout",
     "output_type": "stream",
     "text": [
      "\u001b[1m1/1\u001b[0m \u001b[32m━━━━━━━━━━━━━━━━━━━━\u001b[0m\u001b[37m\u001b[0m \u001b[1m0s\u001b[0m 24ms/step\n",
      "\u001b[1m1/1\u001b[0m \u001b[32m━━━━━━━━━━━━━━━━━━━━\u001b[0m\u001b[37m\u001b[0m \u001b[1m0s\u001b[0m 13ms/step\n",
      "\u001b[1m1/1\u001b[0m \u001b[32m━━━━━━━━━━━━━━━━━━━━\u001b[0m\u001b[37m\u001b[0m \u001b[1m0s\u001b[0m 12ms/step\n",
      "\u001b[1m1/1\u001b[0m \u001b[32m━━━━━━━━━━━━━━━━━━━━\u001b[0m\u001b[37m\u001b[0m \u001b[1m0s\u001b[0m 12ms/step\n",
      "\u001b[1m1/1\u001b[0m \u001b[32m━━━━━━━━━━━━━━━━━━━━\u001b[0m\u001b[37m\u001b[0m \u001b[1m0s\u001b[0m 11ms/step\n",
      "\u001b[1m1/1\u001b[0m \u001b[32m━━━━━━━━━━━━━━━━━━━━\u001b[0m\u001b[37m\u001b[0m \u001b[1m0s\u001b[0m 13ms/step\n",
      "\u001b[1m1/1\u001b[0m \u001b[32m━━━━━━━━━━━━━━━━━━━━\u001b[0m\u001b[37m\u001b[0m \u001b[1m0s\u001b[0m 11ms/step\n",
      "\u001b[1m1/1\u001b[0m \u001b[32m━━━━━━━━━━━━━━━━━━━━\u001b[0m\u001b[37m\u001b[0m \u001b[1m0s\u001b[0m 12ms/step\n",
      "\u001b[1m1/1\u001b[0m \u001b[32m━━━━━━━━━━━━━━━━━━━━\u001b[0m\u001b[37m\u001b[0m \u001b[1m0s\u001b[0m 12ms/step\n",
      "\u001b[1m1/1\u001b[0m \u001b[32m━━━━━━━━━━━━━━━━━━━━\u001b[0m\u001b[37m\u001b[0m \u001b[1m0s\u001b[0m 12ms/step\n",
      "\u001b[1m1/1\u001b[0m \u001b[32m━━━━━━━━━━━━━━━━━━━━\u001b[0m\u001b[37m\u001b[0m \u001b[1m0s\u001b[0m 13ms/step\n",
      "\u001b[1m1/1\u001b[0m \u001b[32m━━━━━━━━━━━━━━━━━━━━\u001b[0m\u001b[37m\u001b[0m \u001b[1m0s\u001b[0m 11ms/step\n",
      "\u001b[1m1/1\u001b[0m \u001b[32m━━━━━━━━━━━━━━━━━━━━\u001b[0m\u001b[37m\u001b[0m \u001b[1m0s\u001b[0m 12ms/step\n",
      "\u001b[1m1/1\u001b[0m \u001b[32m━━━━━━━━━━━━━━━━━━━━\u001b[0m\u001b[37m\u001b[0m \u001b[1m0s\u001b[0m 11ms/step\n",
      "\u001b[1m1/1\u001b[0m \u001b[32m━━━━━━━━━━━━━━━━━━━━\u001b[0m\u001b[37m\u001b[0m \u001b[1m0s\u001b[0m 11ms/step\n",
      "\u001b[1m1/1\u001b[0m \u001b[32m━━━━━━━━━━━━━━━━━━━━\u001b[0m\u001b[37m\u001b[0m \u001b[1m0s\u001b[0m 11ms/step\n",
      "\u001b[1m1/1\u001b[0m \u001b[32m━━━━━━━━━━━━━━━━━━━━\u001b[0m\u001b[37m\u001b[0m \u001b[1m0s\u001b[0m 11ms/step\n",
      "\u001b[1m1/1\u001b[0m \u001b[32m━━━━━━━━━━━━━━━━━━━━\u001b[0m\u001b[37m\u001b[0m \u001b[1m0s\u001b[0m 11ms/step\n",
      "\u001b[1m1/1\u001b[0m \u001b[32m━━━━━━━━━━━━━━━━━━━━\u001b[0m\u001b[37m\u001b[0m \u001b[1m0s\u001b[0m 11ms/step\n",
      "\u001b[1m1/1\u001b[0m \u001b[32m━━━━━━━━━━━━━━━━━━━━\u001b[0m\u001b[37m\u001b[0m \u001b[1m0s\u001b[0m 11ms/step\n",
      "\u001b[1m1/1\u001b[0m \u001b[32m━━━━━━━━━━━━━━━━━━━━\u001b[0m\u001b[37m\u001b[0m \u001b[1m0s\u001b[0m 12ms/step\n",
      "\u001b[1m1/1\u001b[0m \u001b[32m━━━━━━━━━━━━━━━━━━━━\u001b[0m\u001b[37m\u001b[0m \u001b[1m0s\u001b[0m 11ms/step\n",
      "\u001b[1m1/1\u001b[0m \u001b[32m━━━━━━━━━━━━━━━━━━━━\u001b[0m\u001b[37m\u001b[0m \u001b[1m0s\u001b[0m 11ms/step\n",
      "\u001b[1m1/1\u001b[0m \u001b[32m━━━━━━━━━━━━━━━━━━━━\u001b[0m\u001b[37m\u001b[0m \u001b[1m0s\u001b[0m 11ms/step\n",
      "\u001b[1m1/1\u001b[0m \u001b[32m━━━━━━━━━━━━━━━━━━━━\u001b[0m\u001b[37m\u001b[0m \u001b[1m0s\u001b[0m 11ms/step\n",
      "\u001b[1m1/1\u001b[0m \u001b[32m━━━━━━━━━━━━━━━━━━━━\u001b[0m\u001b[37m\u001b[0m \u001b[1m0s\u001b[0m 11ms/step\n",
      "\u001b[1m1/1\u001b[0m \u001b[32m━━━━━━━━━━━━━━━━━━━━\u001b[0m\u001b[37m\u001b[0m \u001b[1m0s\u001b[0m 12ms/step\n",
      "\u001b[1m1/1\u001b[0m \u001b[32m━━━━━━━━━━━━━━━━━━━━\u001b[0m\u001b[37m\u001b[0m \u001b[1m0s\u001b[0m 12ms/step\n",
      "\u001b[1m1/1\u001b[0m \u001b[32m━━━━━━━━━━━━━━━━━━━━\u001b[0m\u001b[37m\u001b[0m \u001b[1m0s\u001b[0m 13ms/step\n",
      "\u001b[1m1/1\u001b[0m \u001b[32m━━━━━━━━━━━━━━━━━━━━\u001b[0m\u001b[37m\u001b[0m \u001b[1m0s\u001b[0m 12ms/step\n",
      "\u001b[1m1/1\u001b[0m \u001b[32m━━━━━━━━━━━━━━━━━━━━\u001b[0m\u001b[37m\u001b[0m \u001b[1m0s\u001b[0m 13ms/step\n",
      "\u001b[1m1/1\u001b[0m \u001b[32m━━━━━━━━━━━━━━━━━━━━\u001b[0m\u001b[37m\u001b[0m \u001b[1m0s\u001b[0m 12ms/step\n",
      "\u001b[1m1/1\u001b[0m \u001b[32m━━━━━━━━━━━━━━━━━━━━\u001b[0m\u001b[37m\u001b[0m \u001b[1m0s\u001b[0m 12ms/step\n",
      "\u001b[1m1/1\u001b[0m \u001b[32m━━━━━━━━━━━━━━━━━━━━\u001b[0m\u001b[37m\u001b[0m \u001b[1m0s\u001b[0m 11ms/step\n",
      "\u001b[1m1/1\u001b[0m \u001b[32m━━━━━━━━━━━━━━━━━━━━\u001b[0m\u001b[37m\u001b[0m \u001b[1m0s\u001b[0m 12ms/step\n",
      "\u001b[1m1/1\u001b[0m \u001b[32m━━━━━━━━━━━━━━━━━━━━\u001b[0m\u001b[37m\u001b[0m \u001b[1m0s\u001b[0m 12ms/step\n",
      "\u001b[1m1/1\u001b[0m \u001b[32m━━━━━━━━━━━━━━━━━━━━\u001b[0m\u001b[37m\u001b[0m \u001b[1m0s\u001b[0m 12ms/step\n",
      "\u001b[1m1/1\u001b[0m \u001b[32m━━━━━━━━━━━━━━━━━━━━\u001b[0m\u001b[37m\u001b[0m \u001b[1m0s\u001b[0m 13ms/step\n",
      "\u001b[1m1/1\u001b[0m \u001b[32m━━━━━━━━━━━━━━━━━━━━\u001b[0m\u001b[37m\u001b[0m \u001b[1m0s\u001b[0m 12ms/step\n",
      "\u001b[1m1/1\u001b[0m \u001b[32m━━━━━━━━━━━━━━━━━━━━\u001b[0m\u001b[37m\u001b[0m \u001b[1m0s\u001b[0m 12ms/step\n",
      "\u001b[1m1/1\u001b[0m \u001b[32m━━━━━━━━━━━━━━━━━━━━\u001b[0m\u001b[37m\u001b[0m \u001b[1m0s\u001b[0m 12ms/step\n",
      "\u001b[1m1/1\u001b[0m \u001b[32m━━━━━━━━━━━━━━━━━━━━\u001b[0m\u001b[37m\u001b[0m \u001b[1m0s\u001b[0m 13ms/step\n",
      "\u001b[1m1/1\u001b[0m \u001b[32m━━━━━━━━━━━━━━━━━━━━\u001b[0m\u001b[37m\u001b[0m \u001b[1m0s\u001b[0m 11ms/step\n",
      "\u001b[1m1/1\u001b[0m \u001b[32m━━━━━━━━━━━━━━━━━━━━\u001b[0m\u001b[37m\u001b[0m \u001b[1m0s\u001b[0m 13ms/step\n",
      "\u001b[1m1/1\u001b[0m \u001b[32m━━━━━━━━━━━━━━━━━━━━\u001b[0m\u001b[37m\u001b[0m \u001b[1m0s\u001b[0m 12ms/step\n",
      "\u001b[1m1/1\u001b[0m \u001b[32m━━━━━━━━━━━━━━━━━━━━\u001b[0m\u001b[37m\u001b[0m \u001b[1m0s\u001b[0m 12ms/step\n",
      "\u001b[1m1/1\u001b[0m \u001b[32m━━━━━━━━━━━━━━━━━━━━\u001b[0m\u001b[37m\u001b[0m \u001b[1m0s\u001b[0m 13ms/step\n",
      "\u001b[1m1/1\u001b[0m \u001b[32m━━━━━━━━━━━━━━━━━━━━\u001b[0m\u001b[37m\u001b[0m \u001b[1m0s\u001b[0m 12ms/step\n",
      "\u001b[1m1/1\u001b[0m \u001b[32m━━━━━━━━━━━━━━━━━━━━\u001b[0m\u001b[37m\u001b[0m \u001b[1m0s\u001b[0m 11ms/step\n",
      "\u001b[1m1/1\u001b[0m \u001b[32m━━━━━━━━━━━━━━━━━━━━\u001b[0m\u001b[37m\u001b[0m \u001b[1m0s\u001b[0m 12ms/step\n",
      "\u001b[1m1/1\u001b[0m \u001b[32m━━━━━━━━━━━━━━━━━━━━\u001b[0m\u001b[37m\u001b[0m \u001b[1m0s\u001b[0m 12ms/step\n",
      "\u001b[1m1/1\u001b[0m \u001b[32m━━━━━━━━━━━━━━━━━━━━\u001b[0m\u001b[37m\u001b[0m \u001b[1m0s\u001b[0m 13ms/step\n",
      "\u001b[1m1/1\u001b[0m \u001b[32m━━━━━━━━━━━━━━━━━━━━\u001b[0m\u001b[37m\u001b[0m \u001b[1m0s\u001b[0m 12ms/step\n",
      "\u001b[1m1/1\u001b[0m \u001b[32m━━━━━━━━━━━━━━━━━━━━\u001b[0m\u001b[37m\u001b[0m \u001b[1m0s\u001b[0m 12ms/step\n",
      "\u001b[1m1/1\u001b[0m \u001b[32m━━━━━━━━━━━━━━━━━━━━\u001b[0m\u001b[37m\u001b[0m \u001b[1m0s\u001b[0m 12ms/step\n",
      "\u001b[1m1/1\u001b[0m \u001b[32m━━━━━━━━━━━━━━━━━━━━\u001b[0m\u001b[37m\u001b[0m \u001b[1m0s\u001b[0m 13ms/step\n",
      "\u001b[1m1/1\u001b[0m \u001b[32m━━━━━━━━━━━━━━━━━━━━\u001b[0m\u001b[37m\u001b[0m \u001b[1m0s\u001b[0m 13ms/step\n",
      "\u001b[1m1/1\u001b[0m \u001b[32m━━━━━━━━━━━━━━━━━━━━\u001b[0m\u001b[37m\u001b[0m \u001b[1m0s\u001b[0m 12ms/step\n",
      "\u001b[1m1/1\u001b[0m \u001b[32m━━━━━━━━━━━━━━━━━━━━\u001b[0m\u001b[37m\u001b[0m \u001b[1m0s\u001b[0m 12ms/step\n",
      "\u001b[1m1/1\u001b[0m \u001b[32m━━━━━━━━━━━━━━━━━━━━\u001b[0m\u001b[37m\u001b[0m \u001b[1m0s\u001b[0m 12ms/step\n",
      "\u001b[1m1/1\u001b[0m \u001b[32m━━━━━━━━━━━━━━━━━━━━\u001b[0m\u001b[37m\u001b[0m \u001b[1m0s\u001b[0m 12ms/step\n",
      "\u001b[1m1/1\u001b[0m \u001b[32m━━━━━━━━━━━━━━━━━━━━\u001b[0m\u001b[37m\u001b[0m \u001b[1m0s\u001b[0m 12ms/step\n",
      "\u001b[1m1/1\u001b[0m \u001b[32m━━━━━━━━━━━━━━━━━━━━\u001b[0m\u001b[37m\u001b[0m \u001b[1m0s\u001b[0m 12ms/step\n",
      "\u001b[1m1/1\u001b[0m \u001b[32m━━━━━━━━━━━━━━━━━━━━\u001b[0m\u001b[37m\u001b[0m \u001b[1m0s\u001b[0m 12ms/step\n",
      "\u001b[1m1/1\u001b[0m \u001b[32m━━━━━━━━━━━━━━━━━━━━\u001b[0m\u001b[37m\u001b[0m \u001b[1m0s\u001b[0m 13ms/step\n",
      "\u001b[1m1/1\u001b[0m \u001b[32m━━━━━━━━━━━━━━━━━━━━\u001b[0m\u001b[37m\u001b[0m \u001b[1m0s\u001b[0m 12ms/step\n",
      "\u001b[1m1/1\u001b[0m \u001b[32m━━━━━━━━━━━━━━━━━━━━\u001b[0m\u001b[37m\u001b[0m \u001b[1m0s\u001b[0m 12ms/step\n",
      "\u001b[1m1/1\u001b[0m \u001b[32m━━━━━━━━━━━━━━━━━━━━\u001b[0m\u001b[37m\u001b[0m \u001b[1m0s\u001b[0m 12ms/step\n",
      "\u001b[1m1/1\u001b[0m \u001b[32m━━━━━━━━━━━━━━━━━━━━\u001b[0m\u001b[37m\u001b[0m \u001b[1m0s\u001b[0m 13ms/step\n",
      "\u001b[1m1/1\u001b[0m \u001b[32m━━━━━━━━━━━━━━━━━━━━\u001b[0m\u001b[37m\u001b[0m \u001b[1m0s\u001b[0m 12ms/step\n",
      "\u001b[1m1/1\u001b[0m \u001b[32m━━━━━━━━━━━━━━━━━━━━\u001b[0m\u001b[37m\u001b[0m \u001b[1m0s\u001b[0m 12ms/step\n",
      "\u001b[1m1/1\u001b[0m \u001b[32m━━━━━━━━━━━━━━━━━━━━\u001b[0m\u001b[37m\u001b[0m \u001b[1m0s\u001b[0m 13ms/step\n",
      "\u001b[1m1/1\u001b[0m \u001b[32m━━━━━━━━━━━━━━━━━━━━\u001b[0m\u001b[37m\u001b[0m \u001b[1m0s\u001b[0m 11ms/step\n",
      "\u001b[1m1/1\u001b[0m \u001b[32m━━━━━━━━━━━━━━━━━━━━\u001b[0m\u001b[37m\u001b[0m \u001b[1m0s\u001b[0m 13ms/step\n",
      "\u001b[1m1/1\u001b[0m \u001b[32m━━━━━━━━━━━━━━━━━━━━\u001b[0m\u001b[37m\u001b[0m \u001b[1m0s\u001b[0m 11ms/step\n",
      "\u001b[1m1/1\u001b[0m \u001b[32m━━━━━━━━━━━━━━━━━━━━\u001b[0m\u001b[37m\u001b[0m \u001b[1m0s\u001b[0m 11ms/step\n",
      "\u001b[1m1/1\u001b[0m \u001b[32m━━━━━━━━━━━━━━━━━━━━\u001b[0m\u001b[37m\u001b[0m \u001b[1m0s\u001b[0m 11ms/step\n",
      "\u001b[1m1/1\u001b[0m \u001b[32m━━━━━━━━━━━━━━━━━━━━\u001b[0m\u001b[37m\u001b[0m \u001b[1m0s\u001b[0m 12ms/step\n",
      "\u001b[1m1/1\u001b[0m \u001b[32m━━━━━━━━━━━━━━━━━━━━\u001b[0m\u001b[37m\u001b[0m \u001b[1m0s\u001b[0m 11ms/step\n",
      "\u001b[1m1/1\u001b[0m \u001b[32m━━━━━━━━━━━━━━━━━━━━\u001b[0m\u001b[37m\u001b[0m \u001b[1m0s\u001b[0m 11ms/step\n",
      "\u001b[1m1/1\u001b[0m \u001b[32m━━━━━━━━━━━━━━━━━━━━\u001b[0m\u001b[37m\u001b[0m \u001b[1m0s\u001b[0m 12ms/step\n",
      "\u001b[1m1/1\u001b[0m \u001b[32m━━━━━━━━━━━━━━━━━━━━\u001b[0m\u001b[37m\u001b[0m \u001b[1m0s\u001b[0m 11ms/step\n",
      "\u001b[1m1/1\u001b[0m \u001b[32m━━━━━━━━━━━━━━━━━━━━\u001b[0m\u001b[37m\u001b[0m \u001b[1m0s\u001b[0m 10ms/step\n",
      "\u001b[1m1/1\u001b[0m \u001b[32m━━━━━━━━━━━━━━━━━━━━\u001b[0m\u001b[37m\u001b[0m \u001b[1m0s\u001b[0m 12ms/step\n",
      "\u001b[1m1/1\u001b[0m \u001b[32m━━━━━━━━━━━━━━━━━━━━\u001b[0m\u001b[37m\u001b[0m \u001b[1m0s\u001b[0m 11ms/step\n",
      "\u001b[1m1/1\u001b[0m \u001b[32m━━━━━━━━━━━━━━━━━━━━\u001b[0m\u001b[37m\u001b[0m \u001b[1m0s\u001b[0m 11ms/step\n",
      "\u001b[1m1/1\u001b[0m \u001b[32m━━━━━━━━━━━━━━━━━━━━\u001b[0m\u001b[37m\u001b[0m \u001b[1m0s\u001b[0m 11ms/step\n",
      "\u001b[1m1/1\u001b[0m \u001b[32m━━━━━━━━━━━━━━━━━━━━\u001b[0m\u001b[37m\u001b[0m \u001b[1m0s\u001b[0m 13ms/step\n",
      "\u001b[1m1/1\u001b[0m \u001b[32m━━━━━━━━━━━━━━━━━━━━\u001b[0m\u001b[37m\u001b[0m \u001b[1m0s\u001b[0m 12ms/step\n",
      "\u001b[1m1/1\u001b[0m \u001b[32m━━━━━━━━━━━━━━━━━━━━\u001b[0m\u001b[37m\u001b[0m \u001b[1m0s\u001b[0m 12ms/step\n",
      "\u001b[1m1/1\u001b[0m \u001b[32m━━━━━━━━━━━━━━━━━━━━\u001b[0m\u001b[37m\u001b[0m \u001b[1m0s\u001b[0m 12ms/step\n",
      "\u001b[1m1/1\u001b[0m \u001b[32m━━━━━━━━━━━━━━━━━━━━\u001b[0m\u001b[37m\u001b[0m \u001b[1m0s\u001b[0m 19ms/step\n",
      "\u001b[1m1/1\u001b[0m \u001b[32m━━━━━━━━━━━━━━━━━━━━\u001b[0m\u001b[37m\u001b[0m \u001b[1m0s\u001b[0m 12ms/step\n",
      "\u001b[1m1/1\u001b[0m \u001b[32m━━━━━━━━━━━━━━━━━━━━\u001b[0m\u001b[37m\u001b[0m \u001b[1m0s\u001b[0m 13ms/step\n",
      "\u001b[1m1/1\u001b[0m \u001b[32m━━━━━━━━━━━━━━━━━━━━\u001b[0m\u001b[37m\u001b[0m \u001b[1m0s\u001b[0m 12ms/step\n",
      "\u001b[1m1/1\u001b[0m \u001b[32m━━━━━━━━━━━━━━━━━━━━\u001b[0m\u001b[37m\u001b[0m \u001b[1m0s\u001b[0m 12ms/step\n",
      "\u001b[1m1/1\u001b[0m \u001b[32m━━━━━━━━━━━━━━━━━━━━\u001b[0m\u001b[37m\u001b[0m \u001b[1m0s\u001b[0m 12ms/step\n",
      "\u001b[1m1/1\u001b[0m \u001b[32m━━━━━━━━━━━━━━━━━━━━\u001b[0m\u001b[37m\u001b[0m \u001b[1m0s\u001b[0m 12ms/step\n",
      "\u001b[1m1/1\u001b[0m \u001b[32m━━━━━━━━━━━━━━━━━━━━\u001b[0m\u001b[37m\u001b[0m \u001b[1m0s\u001b[0m 12ms/step\n",
      "\u001b[1m1/1\u001b[0m \u001b[32m━━━━━━━━━━━━━━━━━━━━\u001b[0m\u001b[37m\u001b[0m \u001b[1m0s\u001b[0m 12ms/step\n",
      "Precision for class 0: Mean = 0.5200\n",
      "Precision for class 1: Mean = 0.8333\n"
     ]
    }
   ],
   "source": [
    "from sklearn.metrics import precision_score\n",
    "import numpy as np\n",
    "\n",
    "n_iterations = 100\n",
    "precision_0_list = []\n",
    "precision_1_list = []\n",
    "\n",
    "for i in range(n_iterations):\n",
    "    y_pred = (model.predict(x_test) > 0.5).astype(int)  # Threshold = 0.5\n",
    "\n",
    "    # Calculate Precision with zero_division=0\n",
    "    precision_0 = precision_score(y_test, y_pred, pos_label=0, zero_division=0)\n",
    "    precision_1 = precision_score(y_test, y_pred, pos_label=1, zero_division=0)\n",
    "\n",
    "    # Append to lists\n",
    "    precision_0_list.append(precision_0)\n",
    "    precision_1_list.append(precision_1)\n",
    "\n",
    "# Calculate Mean and Standard Deviation\n",
    "print(f\"Precision for class 0: Mean = {np.mean(precision_0_list):.4f}\")\n",
    "print(f\"Precision for class 1: Mean = {np.mean(precision_1_list):.4f}\")\n"
   ]
  },
  {
   "cell_type": "code",
   "execution_count": 75,
   "id": "5397f728",
   "metadata": {},
   "outputs": [
    {
     "name": "stdout",
     "output_type": "stream",
     "text": [
      "\u001b[1m1/1\u001b[0m \u001b[32m━━━━━━━━━━━━━━━━━━━━\u001b[0m\u001b[37m\u001b[0m \u001b[1m0s\u001b[0m 13ms/step\n",
      "Prediction: [[0.46032634]]\n",
      "Label: [[0]]\n"
     ]
    }
   ],
   "source": [
    "# เลือก 7 แถวล่าสุดจาก test_data\n",
    "last_7_days = test_data.iloc[-7:][['rsi', 'macd_diff', 'price_change', 'volume', 'close']]\n",
    "input_data = last_7_days.iloc[-1:].values \n",
    "\n",
    "\n",
    "# พยากรณ์ด้วยโมเดล\n",
    "prediction = model.predict(input_data)\n",
    "\n",
    "# แสดงผลการพยากรณ์\n",
    "print(\"Prediction:\", prediction)\n",
    "\n",
    "# Threshold = 0.5 (ค่ากลาง)\n",
    "threshold = 0.5\n",
    "label = (prediction >= threshold).astype(int)\n",
    "print(\"Label:\", label)"
   ]
  },
  {
   "cell_type": "code",
   "execution_count": null,
   "id": "d3acbe33",
   "metadata": {},
   "outputs": [],
   "source": []
  },
  {
   "cell_type": "code",
   "execution_count": null,
   "id": "3c2c4c9b",
   "metadata": {},
   "outputs": [],
   "source": []
  },
  {
   "cell_type": "code",
   "execution_count": null,
   "id": "7cbe925b",
   "metadata": {},
   "outputs": [],
   "source": []
  },
  {
   "cell_type": "code",
   "execution_count": null,
   "id": "78cb2614",
   "metadata": {},
   "outputs": [],
   "source": []
  }
 ],
 "metadata": {
  "kernelspec": {
   "display_name": "Python 3 (ipykernel)",
   "language": "python",
   "name": "python3"
  },
  "language_info": {
   "codemirror_mode": {
    "name": "ipython",
    "version": 3
   },
   "file_extension": ".py",
   "mimetype": "text/x-python",
   "name": "python",
   "nbconvert_exporter": "python",
   "pygments_lexer": "ipython3",
   "version": "3.11.5"
  }
 },
 "nbformat": 4,
 "nbformat_minor": 5
}
